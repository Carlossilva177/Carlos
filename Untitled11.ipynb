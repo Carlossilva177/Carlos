{
  "nbformat": 4,
  "nbformat_minor": 0,
  "metadata": {
    "colab": {
      "provenance": [],
      "authorship_tag": "ABX9TyOapZKBXL75WH5WQc8EG/c1",
      "include_colab_link": true
    },
    "kernelspec": {
      "name": "python3",
      "display_name": "Python 3"
    },
    "language_info": {
      "name": "python"
    }
  },
  "cells": [
    {
      "cell_type": "markdown",
      "metadata": {
        "id": "view-in-github",
        "colab_type": "text"
      },
      "source": [
        "<a href=\"https://colab.research.google.com/github/Carlossilva177/Carlos/blob/main/Untitled11.ipynb\" target=\"_parent\"><img src=\"https://colab.research.google.com/assets/colab-badge.svg\" alt=\"Open In Colab\"/></a>"
      ]
    },
    {
      "cell_type": "code",
      "execution_count": 2,
      "metadata": {
        "id": "DJsYdQ9nhkPx",
        "colab": {
          "base_uri": "https://localhost:8080/"
        },
        "outputId": "68384aaa-ac7a-4c9d-ea6c-2d8092330ca7"
      },
      "outputs": [
        {
          "output_type": "stream",
          "name": "stdout",
          "text": [
            "Digite seu peso (em kg): 50\n",
            "Digite sua altura (em metros): 2\n",
            "Seu IMC é: 12.50\n",
            "Condição: Abaixo do peso\n"
          ]
        }
      ],
      "source": [
        "# Entrada de dados\n",
        "peso = float(input(\"Digite seu peso (em kg): \"))\n",
        "altura = float(input(\"Digite sua altura (em metros): \"))\n",
        "\n",
        "# Cálculo do IMC\n",
        "imc = peso / (altura ** 2)\n",
        "\n",
        "# Saída do IMC\n",
        "print(f\"Seu IMC é: {imc:.2f}\")\n",
        "\n",
        "# Verificando a condição\n",
        "if imc < 18.5:\n",
        "    print(\"Condição: Abaixo do peso\")\n",
        "elif 18.5 <= imc < 25:\n",
        "    print(\"Condição: Peso normal\")\n",
        "elif 25 <= imc < 30:\n",
        "    print(\"Condição: Acima do peso\")\n",
        "else:\n",
        "    print(\"Condição: Obeso\")"
      ]
    }
  ]
}